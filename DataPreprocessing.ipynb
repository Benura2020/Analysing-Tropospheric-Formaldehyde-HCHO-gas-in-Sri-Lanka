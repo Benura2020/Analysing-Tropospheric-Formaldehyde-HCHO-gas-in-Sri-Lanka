{
 "cells": [
  {
   "cell_type": "markdown",
   "metadata": {},
   "source": [
    "*Title: Analysing Tropospheric Formaldehyde (HCHO) gas in Sri Lanka*\n",
    "\n",
    "*Author: Benura Wickramanayake 💻*\n",
    "\n",
    "*Date: 2024-03-25*"
   ]
  },
  {
   "cell_type": "code",
   "execution_count": 2,
   "metadata": {},
   "outputs": [],
   "source": [
    "import pyspark\n",
    "import pyspark.sql.functions as F\n",
    "from pyspark.sql import SparkSession\n",
    "from pyspark.sql.types import StructType, StructField, StringType, DoubleType"
   ]
  },
  {
   "cell_type": "markdown",
   "metadata": {},
   "source": [
    "### PySpark Environment"
   ]
  },
  {
   "cell_type": "code",
   "execution_count": 3,
   "metadata": {},
   "outputs": [],
   "source": [
    "# create a Spark session\n",
    "spark = SparkSession.builder.appName(\"DataPreprocessing\").getOrCreate()"
   ]
  },
  {
   "cell_type": "markdown",
   "metadata": {},
   "source": [
    "## Create Dataframe"
   ]
  },
  {
   "cell_type": "code",
   "execution_count": 4,
   "metadata": {},
   "outputs": [],
   "source": [
    "# Define the schema\n",
    "schema = StructType([\n",
    "    StructField(\"HCHO_reading\", DoubleType(), True),\n",
    "    StructField(\"Location\", StringType(), True),\n",
    "    StructField(\"Current_Date\", StringType(), True),\n",
    "    StructField(\"Next_Date\", StringType(), True)\n",
    "])"
   ]
  },
  {
   "cell_type": "code",
   "execution_count": 7,
   "metadata": {},
   "outputs": [],
   "source": [
    "# load data\n",
    "file_paths = [\n",
    "    \"Dataset\\\\col_mat_nuw_output.csv\",\n",
    "    \"Dataset\\\\mon_kur_jaf_output.csv\",\n",
    "    \"Dataset\\\\kan_output.csv\"\n",
    "]"
   ]
  },
  {
   "cell_type": "code",
   "execution_count": 8,
   "metadata": {},
   "outputs": [],
   "source": [
    "# dataframe creation\n",
    "df = spark.read.csv(file_paths, schema=schema, header=True)"
   ]
  },
  {
   "cell_type": "markdown",
   "metadata": {},
   "source": [
    "Defined schema of the dataset with data types for each column, load 3 csv files (dataset) into DataFrame  "
   ]
  },
  {
   "cell_type": "markdown",
   "metadata": {},
   "source": [
    "### Dataset Observations"
   ]
  },
  {
   "cell_type": "code",
   "execution_count": 9,
   "metadata": {},
   "outputs": [
    {
     "name": "stdout",
     "output_type": "stream",
     "text": [
      "+-------+--------------------+-------------------+------------+----------+\n",
      "|summary|        HCHO_reading|           Location|Current_Date| Next_Date|\n",
      "+-------+--------------------+-------------------+------------+----------+\n",
      "|  count|                7916|              12779|       12779|     12779|\n",
      "|   mean|1.192609008729181...|               NULL|        NULL|      NULL|\n",
      "| stddev|9.322891110805865E-5|               NULL|        NULL|      NULL|\n",
      "|    min|-3.52473024357239...| Bibile, Monaragala|  2019-01-01|2019-01-02|\n",
      "|    max|8.997101837438971E-4|Nuwara Eliya Proper|  2023-12-31|2024-01-01|\n",
      "+-------+--------------------+-------------------+------------+----------+\n",
      "\n"
     ]
    }
   ],
   "source": [
    "# df summary\n",
    "df_summary = df.describe()\n",
    "df_summary.show()"
   ]
  },
  {
   "cell_type": "code",
   "execution_count": 11,
   "metadata": {},
   "outputs": [
    {
     "name": "stdout",
     "output_type": "stream",
     "text": [
      "+----------------------+------------------+------------+----------+\n",
      "|HCHO_reading          |Location          |Current_Date|Next_Date |\n",
      "+----------------------+------------------+------------+----------+\n",
      "|1.919914652467399E-5  |Bibile, Monaragala|2019-01-02  |2019-01-03|\n",
      "|2.8114479359302837E-5 |Bibile, Monaragala|2019-01-03  |2019-01-04|\n",
      "|3.747998184385943E-5  |Bibile, Monaragala|2019-01-04  |2019-01-05|\n",
      "|-1.7982608793453114E-5|Bibile, Monaragala|2019-01-05  |2019-01-06|\n",
      "|1.4578368961799026E-4 |Bibile, Monaragala|2019-01-06  |2019-01-07|\n",
      "|2.8285908025465342E-5 |Bibile, Monaragala|2019-01-07  |2019-01-08|\n",
      "|NULL                  |Bibile, Monaragala|2019-01-08  |2019-01-09|\n",
      "|1.4208501670509577E-4 |Bibile, Monaragala|2019-01-09  |2019-01-10|\n",
      "|NULL                  |Bibile, Monaragala|2019-01-10  |2019-01-11|\n",
      "|2.014587947072581E-5  |Bibile, Monaragala|2019-01-11  |2019-01-12|\n",
      "|1.5827876632101837E-4 |Bibile, Monaragala|2019-01-12  |2019-01-13|\n",
      "|NULL                  |Bibile, Monaragala|2019-01-13  |2019-01-14|\n",
      "|NULL                  |Bibile, Monaragala|2019-01-14  |2019-01-15|\n",
      "|9.952823849642218E-5  |Bibile, Monaragala|2019-01-15  |2019-01-16|\n",
      "|7.484570960514249E-5  |Bibile, Monaragala|2019-01-16  |2019-01-17|\n",
      "|7.736112226328797E-5  |Bibile, Monaragala|2019-01-17  |2019-01-18|\n",
      "|NULL                  |Bibile, Monaragala|2019-01-18  |2019-01-19|\n",
      "|3.9881410104076654E-5 |Bibile, Monaragala|2019-01-19  |2019-01-20|\n",
      "|1.8916202038533428E-4 |Bibile, Monaragala|2019-01-20  |2019-01-21|\n",
      "|1.1599699264237457E-4 |Bibile, Monaragala|2019-01-21  |2019-01-22|\n",
      "|1.4135236237093095E-4 |Bibile, Monaragala|2019-01-22  |2019-01-23|\n",
      "|7.165379525100222E-5  |Bibile, Monaragala|2019-01-23  |2019-01-24|\n",
      "|NULL                  |Bibile, Monaragala|2019-01-24  |2019-01-25|\n",
      "|-2.8553898678860067E-5|Bibile, Monaragala|2019-01-25  |2019-01-26|\n",
      "|NULL                  |Bibile, Monaragala|2019-01-26  |2019-01-27|\n",
      "|1.8056736899607327E-4 |Bibile, Monaragala|2019-01-27  |2019-01-28|\n",
      "|9.113160086427455E-5  |Bibile, Monaragala|2019-01-28  |2019-01-29|\n",
      "|7.241739856355372E-5  |Bibile, Monaragala|2019-01-29  |2019-01-30|\n",
      "|NULL                  |Bibile, Monaragala|2019-01-30  |2019-01-31|\n",
      "|4.098144742473462E-5  |Bibile, Monaragala|2019-01-31  |2019-02-01|\n",
      "|5.186428352058307E-5  |Bibile, Monaragala|2019-02-01  |2019-02-02|\n",
      "|NULL                  |Bibile, Monaragala|2019-02-02  |2019-02-03|\n",
      "|NULL                  |Bibile, Monaragala|2019-02-03  |2019-02-04|\n",
      "|NULL                  |Bibile, Monaragala|2019-02-04  |2019-02-05|\n",
      "|NULL                  |Bibile, Monaragala|2019-02-05  |2019-02-06|\n",
      "|1.0513533806196861E-5 |Bibile, Monaragala|2019-02-06  |2019-02-07|\n",
      "|4.076109671524861E-5  |Bibile, Monaragala|2019-02-07  |2019-02-08|\n",
      "|7.59353421234044E-5   |Bibile, Monaragala|2019-02-08  |2019-02-09|\n",
      "|NULL                  |Bibile, Monaragala|2019-02-09  |2019-02-10|\n",
      "|7.34858268449358E-5   |Bibile, Monaragala|2019-02-10  |2019-02-11|\n",
      "|1.0584419214865193E-5 |Bibile, Monaragala|2019-02-11  |2019-02-12|\n",
      "|6.919795120446755E-5  |Bibile, Monaragala|2019-02-12  |2019-02-13|\n",
      "|NULL                  |Bibile, Monaragala|2019-02-13  |2019-02-14|\n",
      "|NULL                  |Bibile, Monaragala|2019-02-14  |2019-02-15|\n",
      "|1.6234806389547884E-4 |Bibile, Monaragala|2019-02-15  |2019-02-16|\n",
      "|2.6644206895973665E-5 |Bibile, Monaragala|2019-02-16  |2019-02-17|\n",
      "|1.3624131982837749E-4 |Bibile, Monaragala|2019-02-17  |2019-02-18|\n",
      "|5.895095797941796E-5  |Bibile, Monaragala|2019-02-18  |2019-02-19|\n",
      "|7.990708924877695E-5  |Bibile, Monaragala|2019-02-19  |2019-02-20|\n",
      "|8.647263683420719E-5  |Bibile, Monaragala|2019-02-20  |2019-02-21|\n",
      "+----------------------+------------------+------------+----------+\n",
      "only showing top 50 rows\n",
      "\n"
     ]
    }
   ],
   "source": [
    "# see first 50 rows\n",
    "df.show(50, truncate=False)   #truncate - readability"
   ]
  },
  {
   "cell_type": "code",
   "execution_count": null,
   "metadata": {},
   "outputs": [],
   "source": []
  },
  {
   "cell_type": "markdown",
   "metadata": {},
   "source": [
    "# PreProcessing"
   ]
  },
  {
   "cell_type": "markdown",
   "metadata": {},
   "source": [
    "## "
   ]
  },
  {
   "cell_type": "code",
   "execution_count": null,
   "metadata": {},
   "outputs": [],
   "source": []
  }
 ],
 "metadata": {
  "kernelspec": {
   "display_name": "Python 3",
   "language": "python",
   "name": "python3"
  },
  "language_info": {
   "codemirror_mode": {
    "name": "ipython",
    "version": 3
   },
   "file_extension": ".py",
   "mimetype": "text/x-python",
   "name": "python",
   "nbconvert_exporter": "python",
   "pygments_lexer": "ipython3",
   "version": "3.12.2"
  }
 },
 "nbformat": 4,
 "nbformat_minor": 2
}
