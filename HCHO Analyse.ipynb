{
 "cells": [
  {
   "cell_type": "markdown",
   "metadata": {},
   "source": [
    "*Title: Analysing Tropospheric Formaldehyde (HCHO) gas in Sri Lanka*\n",
    "\n",
    "*Author: Benura Wickramanayake 💻*\n",
    "\n",
    "*Date: 2024-03-25*"
   ]
  },
  {
   "cell_type": "markdown",
   "metadata": {},
   "source": []
  }
 ],
 "metadata": {
  "language_info": {
   "name": "python"
  }
 },
 "nbformat": 4,
 "nbformat_minor": 2
}
